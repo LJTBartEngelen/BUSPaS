{
 "cells": [
  {
   "cell_type": "code",
   "id": "initial_id",
   "metadata": {
    "collapsed": true,
    "ExecuteTime": {
     "end_time": "2025-01-27T14:16:44.637503Z",
     "start_time": "2025-01-27T14:16:42.125990Z"
    }
   },
   "source": "from getBenchmarkData import *",
   "outputs": [],
   "execution_count": 1
  },
  {
   "metadata": {
    "ExecuteTime": {
     "end_time": "2025-01-27T14:16:48.898041Z",
     "start_time": "2025-01-27T14:16:45.372823Z"
    }
   },
   "cell_type": "code",
   "source": [
    "def analyze_datasets(datasets):\n",
    "    # Initialize an empty list to store dataset information\n",
    "    dataset_info = []\n",
    "\n",
    "    for data_set_key in datasets.keys():\n",
    "        # Extract data, target, and matrix\n",
    "        data, _, _ = datasets[data_set_key]\n",
    "        \n",
    "        target_length = len(data['target'].iloc[1])\n",
    "\n",
    "        # Remove 'target' column if it exists\n",
    "        if 'target' in data.columns:\n",
    "            data = data.drop(columns=['target'])\n",
    "\n",
    "        # Define potential binary values\n",
    "        binary_values = [{0, 1}, {\"0\", \"1\"}, {True, False},  {'True', 'False'}, {\"y\", \"n\"}, {\"ja\", \"nee\"}, {\"yes\", \"no\"}, {\"waar\", \"onwaar\"}]\n",
    "\n",
    "        # Identify binary columns based on unique values\n",
    "        binary_columns = sum(\n",
    "            data[col].dropna().nunique() <= 2 and set(data[col].dropna().unique()) in binary_values\n",
    "            for col in data.columns\n",
    "        )\n",
    "\n",
    "        # Count the number of numerical columns (integers and floats)\n",
    "        numerical_columns = data.select_dtypes(include=['number']).shape[1]\n",
    "\n",
    "        # Count the number of categorical columns\n",
    "        categorical_columns = data.select_dtypes(include=['object', 'category']).shape[1]\n",
    "\n",
    "        # Count the number of columns of other types\n",
    "        total_columns = data.shape[1]\n",
    "        other_columns = total_columns\n",
    "\n",
    "        # Append dataset information to the list\n",
    "        dataset_info.append({\n",
    "            '$\\Omega$': data_set_key,\n",
    "            '$N$': len(data),\n",
    "            '$|A|$': other_columns,\n",
    "            '$|A_{bin}|$': binary_columns,\n",
    "            '$|A_{num}|$': numerical_columns,\n",
    "            '$|A_{cat}|$': categorical_columns,\n",
    "            '$|L|$': target_length\n",
    "        })\n",
    "\n",
    "    # Convert the list of dictionaries into a DataFrame\n",
    "    dataset_df = pd.DataFrame(dataset_info)\n",
    "\n",
    "    return dataset_df\n",
    "\n",
    "# Example usage\n",
    "datasets = get_data('all')\n",
    "result_df = analyze_datasets(datasets)\n",
    "print(result_df)\n",
    "print(result_df.to_latex(index=False))"
   ],
   "id": "dfd0af9a511e20e7",
   "outputs": [
    {
     "name": "stderr",
     "output_type": "stream",
     "text": [
      "<>:36: SyntaxWarning: invalid escape sequence '\\O'\n",
      "<>:36: SyntaxWarning: invalid escape sequence '\\O'\n",
      "C:\\Users\\bengelen004\\AppData\\Local\\Temp\\ipykernel_21680\\2039351130.py:36: SyntaxWarning: invalid escape sequence '\\O'\n",
      "  '$\\Omega$': data_set_key,\n"
     ]
    },
    {
     "name": "stdout",
     "output_type": "stream",
     "text": [
      "           $\\Omega$    $N$  $|A|$  $|A_{bin}|$  $|A_{num}|$  $|A_{cat}|$  \\\n",
      "0         wisconsin    194     16            0           16            0   \n",
      "1               cpu   8192      6            0            6            0   \n",
      "2            voting    351     83            0           82            1   \n",
      "3      student_math    395     30            8           13           17   \n",
      "4       student_por    649     30            8           13           17   \n",
      "5         elevators  16599      9            0            9            0   \n",
      "6             ecoli    336      7            2            5            2   \n",
      "7              wine    178     13            0           13            0   \n",
      "8             sushi   5000     10            4            2            8   \n",
      "9       Netherlands    213     11            0            5            6   \n",
      "10           France    907     11            0            5            6   \n",
      "11          Germany   1114     11            0            5            6   \n",
      "12            India   1274     11            0            5            6   \n",
      "13        Australia   1601     11            0            5            6   \n",
      "14      South Korea    662     11            0            5            6   \n",
      "15        Indonesia    626     11            0            5            6   \n",
      "16           Brazil    508     11            0            5            6   \n",
      "17  large_economies  18504     11            0            5            6   \n",
      "\n",
      "    $|L|$  \n",
      "0      16  \n",
      "1       5  \n",
      "2      37  \n",
      "3       3  \n",
      "4       3  \n",
      "5       9  \n",
      "6       8  \n",
      "7       3  \n",
      "8      10  \n",
      "9      61  \n",
      "10     61  \n",
      "11     61  \n",
      "12     61  \n",
      "13     61  \n",
      "14     61  \n",
      "15     61  \n",
      "16     61  \n",
      "17     61  \n",
      "\\begin{tabular}{lrrrrrr}\n",
      "\\toprule\n",
      "$\\Omega$ & $N$ & $|A|$ & $|A_{bin}|$ & $|A_{num}|$ & $|A_{cat}|$ & $|L|$ \\\\\n",
      "\\midrule\n",
      "wisconsin & 194 & 16 & 0 & 16 & 0 & 16 \\\\\n",
      "cpu & 8192 & 6 & 0 & 6 & 0 & 5 \\\\\n",
      "voting & 351 & 83 & 0 & 82 & 1 & 37 \\\\\n",
      "student_math & 395 & 30 & 8 & 13 & 17 & 3 \\\\\n",
      "student_por & 649 & 30 & 8 & 13 & 17 & 3 \\\\\n",
      "elevators & 16599 & 9 & 0 & 9 & 0 & 9 \\\\\n",
      "ecoli & 336 & 7 & 2 & 5 & 2 & 8 \\\\\n",
      "wine & 178 & 13 & 0 & 13 & 0 & 3 \\\\\n",
      "sushi & 5000 & 10 & 4 & 2 & 8 & 10 \\\\\n",
      "Netherlands & 213 & 11 & 0 & 5 & 6 & 61 \\\\\n",
      "France & 907 & 11 & 0 & 5 & 6 & 61 \\\\\n",
      "Germany & 1114 & 11 & 0 & 5 & 6 & 61 \\\\\n",
      "India & 1274 & 11 & 0 & 5 & 6 & 61 \\\\\n",
      "Australia & 1601 & 11 & 0 & 5 & 6 & 61 \\\\\n",
      "South Korea & 662 & 11 & 0 & 5 & 6 & 61 \\\\\n",
      "Indonesia & 626 & 11 & 0 & 5 & 6 & 61 \\\\\n",
      "Brazil & 508 & 11 & 0 & 5 & 6 & 61 \\\\\n",
      "large_economies & 18504 & 11 & 0 & 5 & 6 & 61 \\\\\n",
      "\\bottomrule\n",
      "\\end{tabular}\n",
      "\n"
     ]
    }
   ],
   "execution_count": 2
  },
  {
   "metadata": {},
   "cell_type": "code",
   "outputs": [],
   "execution_count": null,
   "source": "",
   "id": "667db3e3388ca8d"
  }
 ],
 "metadata": {
  "kernelspec": {
   "display_name": "Python 3",
   "language": "python",
   "name": "python3"
  },
  "language_info": {
   "codemirror_mode": {
    "name": "ipython",
    "version": 2
   },
   "file_extension": ".py",
   "mimetype": "text/x-python",
   "name": "python",
   "nbconvert_exporter": "python",
   "pygments_lexer": "ipython2",
   "version": "2.7.6"
  }
 },
 "nbformat": 4,
 "nbformat_minor": 5
}
